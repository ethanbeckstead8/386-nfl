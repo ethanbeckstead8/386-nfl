import requests
from bs4 import BeautifulSoup
import pandas as pd
import re
base_url = "https://www.pro-football-reference.com"
team_url1 = "https://www.pro-football-reference.com/teams/"
team = "kan"
team_url2="/"
team_url3="/gamelog/"

kansasBox = []
for year in range(2019, 2024):
    url = team_url1 + team + team_url2 + str(year) + team_url3
    response = requests.get(url)
    soup = BeautifulSoup(response.text, 'html.parser')
    for cell in soup.find_all('td', {'data-stat': 'boxscore_word'}):
        link_tag = cell.find('a')
        if link_tag:
            kansasBox.append(base_url + link_tag['href'])

print("Kansas Boxscore Links:", kansasBox)
team = "min"
minnesotaBox = []
for year in range(2019, 2024):
    url = team_url1 + team + team_url2 + str(year) + team_url3
    response = requests.get(url)
    soup = BeautifulSoup(response.text, 'html.parser')
    for cell in soup.find_all('td', {'data-stat': 'boxscore_word'}):
        link_tag = cell.find('a')
        if link_tag:
            # Append the full URL for the box score page
            minnesotaBox.append(base_url + link_tag['href'])
print("Minnesota Boxscore Links:", minnesotaBox)
